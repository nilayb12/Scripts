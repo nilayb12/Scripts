{
 "cells": [
  {
   "cell_type": "code",
   "execution_count": null,
   "id": "97190676-011a-4a5d-8736-6abb0044ae2c",
   "metadata": {},
   "outputs": [],
   "source": [
    "# import required modules\n",
    "import pandas as pd\n",
    "import numpy as np\n",
    "import time\n",
    "\n",
    "# time taken to read data\n",
    "s_time_chunk = time.time()\n",
    "chunk = pd.read_csv(\"Files/PanIndia_700MhZ.csv\", chunksize=1000)\n",
    "e_time_chunk = time.time()\n",
    "\n",
    "print(\"With chunks: \", (e_time_chunk - s_time_chunk), \"sec\")\n",
    "df = pd.concat(chunk)\n",
    "\n",
    "# data\n",
    "print(df.head(10))"
   ]
  },
  {
   "cell_type": "code",
   "execution_count": 1,
   "id": "32514ad4",
   "metadata": {},
   "outputs": [],
   "source": [
    "import pandas as pd\n",
    "\n",
    "df1 = pd.read_csv(\"C:/Users/Nilay.Baranwal/Desktop/PanIndia_ODSC_CTD.csv\")\n",
    "df2 = pd.read_csv(\"C:/Users/Nilay.Baranwal/Desktop/All_Buildings_Covered_Status.csv\")\n",
    "\n",
    "df_merge = df1.merge(df2, on=\"geohash7\", how=\"outer\")\n",
    "with open(\n",
    "    \"C:/Users/Nilay.Baranwal/Desktop/PanIndia_CTD_All_Buildings_Combine.csv\", \"wb\"\n",
    ") as f:\n",
    "    df_merge.to_csv(f, index=False)"
   ]
  },
  {
   "cell_type": "code",
   "execution_count": null,
   "id": "6838fa64-3fad-4b40-8052-08e764bdc3aa",
   "metadata": {},
   "outputs": [],
   "source": [
    "import pandas as pd\n",
    "import numpy as np\n",
    "\n",
    "input_file = \"Files/100000merge210.csv\"\n",
    "# output_file = \"Files/output.csv\"\n",
    "output_file_maxdist = \"Files/output_maxdist.csv\"\n",
    "df = pd.read_csv(input_file)\n",
    "# df = df.convert_objects(convert_numeric = True)\n",
    "\n",
    "\n",
    "def dist_from_coordinates(lat1, lon1, lat2, lon2):\n",
    "    R = 6371\n",
    "\n",
    "    d_lat = np.radians(lat2 - lat1)\n",
    "    d_lon = np.radians(lon2 - lon1)\n",
    "\n",
    "    r_lat1 = np.radians(lat1)\n",
    "    r_lat2 = np.radians(lat2)\n",
    "\n",
    "    a = (\n",
    "        np.sin(d_lat / 2.0) ** 2\n",
    "        + np.cos(r_lat1) * np.cos(r_lat2) * np.sin(d_lon / 2.0) ** 2\n",
    "    )\n",
    "\n",
    "    haversine = 2 * R * np.arcsin(np.sqrt(a))\n",
    "\n",
    "    return haversine\n",
    "\n",
    "\n",
    "new_column = []\n",
    "for index, row in df.iterrows():\n",
    "    lat1 = row[\"Lat_x\"]\n",
    "    lon1 = row[\"Long_x\"]\n",
    "    lat2 = row[\"Lat_y\"]\n",
    "    lon2 = row[\"Long_y\"]\n",
    "    value = dist_from_coordinates(lat1, lon1, lat2, lon2)\n",
    "    new_column.append(value)\n",
    "\n",
    "df.insert(16, \"Distance(Km)\", new_column)\n",
    "# with open(output_file, \"wb\") as f:\n",
    "#     df.to_csv(f, index=False)\n",
    "\n",
    "idx = df.groupby([\"Label\"])[\"Distance(Km)\"].transform(max) == df[\"Distance(Km)\"]\n",
    "with open(output_file_maxdist, \"wb\") as f:\n",
    "    df[idx].to_csv(f, index=False)"
   ]
  },
  {
   "cell_type": "code",
   "execution_count": null,
   "id": "7ce34055",
   "metadata": {},
   "outputs": [],
   "source": [
    "import geopandas as gpd\n",
    "import fiona as fiona\n",
    "\n",
    "dataset_path = \"C:/Users/Nilay.Baranwal/Desktop/GOA.gdb\"\n",
    "\n",
    "layers = fiona.listlayers(dataset_path)\n",
    "for layername in layers:\n",
    "    # ignore_geometry=True loads gpd file to pandas dataframe\n",
    "    geodata = gpd.read_file(dataset_path, driver='fileGDB', layer=layername, ignore_geometry=True)\n",
    "    geodata.to_csv(\"C:/Users/Nilay.Baranwal/Desktop/BigFiles/\" + f'{layername}.csv')"
   ]
  },
  {
   "cell_type": "code",
   "execution_count": null,
   "id": "0d60f2aa",
   "metadata": {},
   "outputs": [],
   "source": [
    "import pandas\n",
    "\n",
    "df = pandas.read_csv(\"Z:/Tarak/Circle_Wise_CSV/DL.txt\", delimiter=\"\\t\")\n",
    "df = df.fillna(\"NULL\")\n",
    "df.to_csv(\n",
    "    \"C:/Users/Nilay.Baranwal/Desktop/BigFiles/tmp.csv\", encoding=\"utf-8\", index=False\n",
    ")"
   ]
  }
 ],
 "metadata": {
  "kernelspec": {
   "display_name": "Python 3 (ipykernel)",
   "language": "python",
   "name": "python3"
  },
  "language_info": {
   "codemirror_mode": {
    "name": "ipython",
    "version": 3
   },
   "file_extension": ".py",
   "mimetype": "text/x-python",
   "name": "python",
   "nbconvert_exporter": "python",
   "pygments_lexer": "ipython3",
   "version": "3.12.3"
  }
 },
 "nbformat": 4,
 "nbformat_minor": 5
}
